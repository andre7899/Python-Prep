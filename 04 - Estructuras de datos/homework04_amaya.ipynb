{
 "cells": [
  {
   "cell_type": "markdown",
   "metadata": {},
   "source": [
    "1. Crear una lista que contenga nombres de ciudades del mundo que contenga más de 5 elementos e imprimir por pantalla"
   ]
  },
  {
   "cell_type": "code",
   "execution_count": 17,
   "metadata": {},
   "outputs": [
    {
     "name": "stdout",
     "output_type": "stream",
     "text": [
      "['Lima', 'Buenos Aires', 'Bogotá', 'Santiago', 'Quito', 'Brasilia']\n"
     ]
    }
   ],
   "source": [
    "ciudades = [\"Lima\",\"Buenos Aires\",\"Bogotá\",\"Santiago\",\"Quito\",\"Brasilia\"]\n",
    "print(ciudades)"
   ]
  },
  {
   "cell_type": "markdown",
   "metadata": {},
   "source": [
    "2. Imprimir por pantalla el segundo elemento de la lista"
   ]
  },
  {
   "cell_type": "code",
   "execution_count": 18,
   "metadata": {},
   "outputs": [
    {
     "name": "stdout",
     "output_type": "stream",
     "text": [
      "Buenos Aires\n"
     ]
    }
   ],
   "source": [
    "print(ciudades[1])"
   ]
  },
  {
   "cell_type": "markdown",
   "metadata": {},
   "source": [
    "3. Imprimir por pantalla del segundo al cuarto elemento"
   ]
  },
  {
   "cell_type": "code",
   "execution_count": 20,
   "metadata": {},
   "outputs": [
    {
     "name": "stdout",
     "output_type": "stream",
     "text": [
      "['Buenos Aires', 'Bogotá', 'Santiago']\n"
     ]
    }
   ],
   "source": [
    "print(ciudades[1:4])"
   ]
  },
  {
   "cell_type": "markdown",
   "metadata": {},
   "source": [
    "4. Visualizar el tipo de dato de la lista"
   ]
  },
  {
   "cell_type": "code",
   "execution_count": 21,
   "metadata": {},
   "outputs": [
    {
     "name": "stdout",
     "output_type": "stream",
     "text": [
      "<class 'list'>\n"
     ]
    }
   ],
   "source": [
    "print(type(ciudades))"
   ]
  },
  {
   "cell_type": "markdown",
   "metadata": {},
   "source": [
    "5. Visualizar todos los elementos de la lista a partir del tercero de manera genérica, es decir, sin explicitar la posición del último elemento"
   ]
  },
  {
   "cell_type": "code",
   "execution_count": 22,
   "metadata": {},
   "outputs": [
    {
     "name": "stdout",
     "output_type": "stream",
     "text": [
      "['Bogotá', 'Santiago', 'Quito', 'Brasilia']\n"
     ]
    }
   ],
   "source": [
    "print(ciudades[2:])"
   ]
  },
  {
   "cell_type": "markdown",
   "metadata": {},
   "source": [
    "6. Visualizar los primeros 4 elementos de la lista"
   ]
  },
  {
   "cell_type": "code",
   "execution_count": 23,
   "metadata": {},
   "outputs": [
    {
     "name": "stdout",
     "output_type": "stream",
     "text": [
      "['Lima', 'Buenos Aires', 'Bogotá', 'Santiago']\n"
     ]
    }
   ],
   "source": [
    "print(ciudades[:4])"
   ]
  },
  {
   "cell_type": "markdown",
   "metadata": {},
   "source": [
    "7. Agregar una ciudad más a la lista que ya exista y otra que no ¿Arroja algún tipo de error?"
   ]
  },
  {
   "cell_type": "code",
   "execution_count": 25,
   "metadata": {},
   "outputs": [
    {
     "name": "stdout",
     "output_type": "stream",
     "text": [
      "['Lima', 'Buenos Aires', 'Bogotá', 'Santiago', 'Quito', 'Brasilia', 'Bogotá', 'Caracas']\n"
     ]
    }
   ],
   "source": [
    "ciudades.append(\"Bogotá\")\n",
    "ciudades.append(\"Caracas\")\n",
    "print(ciudades)"
   ]
  },
  {
   "cell_type": "markdown",
   "metadata": {},
   "source": [
    "8. Agregar otra ciudad, pero en la cuarta posición"
   ]
  },
  {
   "cell_type": "code",
   "execution_count": 26,
   "metadata": {},
   "outputs": [
    {
     "name": "stdout",
     "output_type": "stream",
     "text": [
      "['Lima', 'Buenos Aires', 'Bogotá', 'La paz', 'Santiago', 'Quito', 'Brasilia', 'Bogotá', 'Caracas']\n"
     ]
    }
   ],
   "source": [
    "ciudades.insert(3,\"La paz\")\n",
    "print(ciudades)"
   ]
  },
  {
   "cell_type": "markdown",
   "metadata": {},
   "source": [
    "9. Concatenar otra lista a la ya creada\n"
   ]
  },
  {
   "cell_type": "code",
   "execution_count": 27,
   "metadata": {},
   "outputs": [
    {
     "name": "stdout",
     "output_type": "stream",
     "text": [
      "['Lima', 'Buenos Aires', 'Bogotá', 'La paz', 'Santiago', 'Quito', 'Brasilia', 'Bogotá', 'Caracas', 'Madrid', 'PArís']\n"
     ]
    }
   ],
   "source": [
    "ciudades.extend([\"Madrid\",\"PArís\"])\n",
    "print(ciudades)"
   ]
  },
  {
   "cell_type": "markdown",
   "metadata": {},
   "source": [
    "10. Encontrar el índice de la ciudad que en el punto 7 agregamos duplicada. ¿Se nota alguna particularidad?"
   ]
  },
  {
   "cell_type": "code",
   "execution_count": 31,
   "metadata": {},
   "outputs": [
    {
     "name": "stdout",
     "output_type": "stream",
     "text": [
      "7\n"
     ]
    }
   ],
   "source": [
    "print(ciudades.index(\"Bogotá\"))\n",
    "#Devuelve el indice de la primera conincidencia contadno desde 0"
   ]
  },
  {
   "cell_type": "markdown",
   "metadata": {},
   "source": [
    "11. ¿Qué pasa si se busca un elemento que no existe?"
   ]
  },
  {
   "cell_type": "code",
   "execution_count": 32,
   "metadata": {},
   "outputs": [
    {
     "ename": "ValueError",
     "evalue": "'hola' is not in list",
     "output_type": "error",
     "traceback": [
      "\u001b[1;31m---------------------------------------------------------------------------\u001b[0m",
      "\u001b[1;31mValueError\u001b[0m                                Traceback (most recent call last)",
      "\u001b[1;32mc:\\Users\\andre\\Desktop\\Prep_course_Python\\Repositorio\\Python-Prep\\04 - Estructuras de datos\\homework04_amaya.ipynb Cell 22\u001b[0m in \u001b[0;36m<cell line: 1>\u001b[1;34m()\u001b[0m\n\u001b[1;32m----> <a href='vscode-notebook-cell:/c%3A/Users/andre/Desktop/Prep_course_Python/Repositorio/Python-Prep/04%20-%20Estructuras%20de%20datos/homework04_amaya.ipynb#X52sZmlsZQ%3D%3D?line=0'>1</a>\u001b[0m \u001b[39mprint\u001b[39m(ciudades\u001b[39m.\u001b[39;49mindex(\u001b[39m\"\u001b[39;49m\u001b[39mhola\u001b[39;49m\u001b[39m\"\u001b[39;49m))\n",
      "\u001b[1;31mValueError\u001b[0m: 'hola' is not in list"
     ]
    }
   ],
   "source": [
    "print(ciudades.index(\"hola\"))"
   ]
  },
  {
   "cell_type": "markdown",
   "metadata": {},
   "source": [
    "12. Eliminar un elemento de la lista"
   ]
  },
  {
   "cell_type": "code",
   "execution_count": 33,
   "metadata": {},
   "outputs": [
    {
     "name": "stdout",
     "output_type": "stream",
     "text": [
      "['Lima', 'Buenos Aires', 'La paz', 'Santiago', 'Quito', 'Brasilia', 'Bogotá', 'Caracas', 'Madrid', 'PArís']\n"
     ]
    }
   ],
   "source": [
    "ciudades.remove(\"Bogotá\")\n",
    "print(ciudades)"
   ]
  },
  {
   "cell_type": "markdown",
   "metadata": {},
   "source": [
    "13. ¿Qué pasa si el elemento a eliminar no existe?\n"
   ]
  },
  {
   "cell_type": "code",
   "execution_count": 34,
   "metadata": {},
   "outputs": [
    {
     "ename": "ValueError",
     "evalue": "list.remove(x): x not in list",
     "output_type": "error",
     "traceback": [
      "\u001b[1;31m---------------------------------------------------------------------------\u001b[0m",
      "\u001b[1;31mValueError\u001b[0m                                Traceback (most recent call last)",
      "\u001b[1;32mc:\\Users\\andre\\Desktop\\Prep_course_Python\\Repositorio\\Python-Prep\\04 - Estructuras de datos\\homework04_amaya.ipynb Cell 26\u001b[0m in \u001b[0;36m<cell line: 1>\u001b[1;34m()\u001b[0m\n\u001b[1;32m----> <a href='vscode-notebook-cell:/c%3A/Users/andre/Desktop/Prep_course_Python/Repositorio/Python-Prep/04%20-%20Estructuras%20de%20datos/homework04_amaya.ipynb#X54sZmlsZQ%3D%3D?line=0'>1</a>\u001b[0m ciudades\u001b[39m.\u001b[39;49mremove(\u001b[39m\"\u001b[39;49m\u001b[39mSidney\u001b[39;49m\u001b[39m\"\u001b[39;49m)\n",
      "\u001b[1;31mValueError\u001b[0m: list.remove(x): x not in list"
     ]
    }
   ],
   "source": [
    "ciudades.remove(\"Sidney\")"
   ]
  },
  {
   "cell_type": "markdown",
   "metadata": {},
   "source": [
    "14. Extraer el úlimo elemento de la lista, guardarlo en una variable e imprimirlo"
   ]
  },
  {
   "cell_type": "code",
   "execution_count": 35,
   "metadata": {},
   "outputs": [
    {
     "name": "stdout",
     "output_type": "stream",
     "text": [
      "['Lima', 'Buenos Aires', 'La paz', 'Santiago', 'Quito', 'Brasilia', 'Bogotá', 'Caracas', 'Madrid']\n",
      "PArís\n"
     ]
    }
   ],
   "source": [
    "ultimo = ciudades.pop()\n",
    "print(ciudades)\n",
    "print(ultimo)"
   ]
  },
  {
   "cell_type": "markdown",
   "metadata": {},
   "source": [
    "15. Mostrar la lista multiplicada por 4"
   ]
  },
  {
   "cell_type": "code",
   "execution_count": 36,
   "metadata": {},
   "outputs": [
    {
     "name": "stdout",
     "output_type": "stream",
     "text": [
      "['Lima', 'Buenos Aires', 'La paz', 'Santiago', 'Quito', 'Brasilia', 'Bogotá', 'Caracas', 'Madrid', 'Lima', 'Buenos Aires', 'La paz', 'Santiago', 'Quito', 'Brasilia', 'Bogotá', 'Caracas', 'Madrid', 'Lima', 'Buenos Aires', 'La paz', 'Santiago', 'Quito', 'Brasilia', 'Bogotá', 'Caracas', 'Madrid', 'Lima', 'Buenos Aires', 'La paz', 'Santiago', 'Quito', 'Brasilia', 'Bogotá', 'Caracas', 'Madrid']\n"
     ]
    }
   ],
   "source": [
    "print(ciudades*4)"
   ]
  },
  {
   "cell_type": "markdown",
   "metadata": {},
   "source": [
    "16. Crear una tupla que contenga los números enteros del 1 al 20"
   ]
  },
  {
   "cell_type": "code",
   "execution_count": 37,
   "metadata": {},
   "outputs": [
    {
     "name": "stdout",
     "output_type": "stream",
     "text": [
      "(1, 2, 3, 4, 5, 6, 7, 8, 9, 10, 11, 12, 13, 14, 15, 16, 17, 18, 19, 20)\n"
     ]
    }
   ],
   "source": [
    "numero_tupla = tuple(i for i in range(1,21))\n",
    "print(numero_tupla)"
   ]
  },
  {
   "cell_type": "markdown",
   "metadata": {},
   "source": [
    "17. Imprimir desde el índice 10 al 15 de la tupla"
   ]
  },
  {
   "cell_type": "code",
   "execution_count": 38,
   "metadata": {},
   "outputs": [
    {
     "name": "stdout",
     "output_type": "stream",
     "text": [
      "(11, 12, 13, 14, 15)\n"
     ]
    }
   ],
   "source": [
    "print(numero_tupla[10:15])"
   ]
  },
  {
   "cell_type": "markdown",
   "metadata": {},
   "source": [
    "18.  Evaluar si los números 20 y 30 están dentro de la tupla"
   ]
  },
  {
   "cell_type": "code",
   "execution_count": 45,
   "metadata": {},
   "outputs": [
    {
     "name": "stdout",
     "output_type": "stream",
     "text": [
      "Está el numero 20? True\n",
      "Esta el numero 30? False\n"
     ]
    }
   ],
   "source": [
    "print(\"Está el numero 20?\",20 in numero_tupla)\n",
    "print(\"Esta el numero 30?\",30 in numero_tupla)"
   ]
  },
  {
   "cell_type": "markdown",
   "metadata": {},
   "source": [
    "19. Con la lista creada en el punto 1, validar la existencia del elemento 'París' y si no existe, agregarlo. Utilizar una variable e informar lo sucedido."
   ]
  },
  {
   "cell_type": "code",
   "execution_count": 47,
   "metadata": {},
   "outputs": [
    {
     "name": "stdout",
     "output_type": "stream",
     "text": [
      "París ya se encuentra en la lista\n",
      "['Lima', 'Buenos Aires', 'La paz', 'Santiago', 'Quito', 'Brasilia', 'Bogotá', 'Caracas', 'Madrid', 'París']\n"
     ]
    }
   ],
   "source": [
    "if \"París\" in ciudades:\n",
    "    print(\"París ya se encuentra en la lista\")\n",
    "else:\n",
    "    ciudades.append(\"París\")\n",
    "print(ciudades)"
   ]
  },
  {
   "cell_type": "markdown",
   "metadata": {},
   "source": [
    "20. Mostrar la cantidad de veces que se encuentra un elemento específico dentro de la tupla y de la lista\n",
    "\n"
   ]
  },
  {
   "cell_type": "code",
   "execution_count": 48,
   "metadata": {},
   "outputs": [
    {
     "name": "stdout",
     "output_type": "stream",
     "text": [
      "1\n",
      "1\n"
     ]
    }
   ],
   "source": [
    "print(numero_tupla.count(20))\n",
    "print(ciudades.count(\"Lima\"))"
   ]
  },
  {
   "cell_type": "markdown",
   "metadata": {},
   "source": [
    "21. Convertir la tupla en una lista"
   ]
  },
  {
   "cell_type": "code",
   "execution_count": 53,
   "metadata": {},
   "outputs": [
    {
     "name": "stdout",
     "output_type": "stream",
     "text": [
      "[1, 2, 3, 4, 5, 6, 7, 8, 9, 10, 11, 12, 13, 14, 15, 16, 17, 18, 19, 20]\n"
     ]
    }
   ],
   "source": [
    "numero_lista = list(numero_tupla)\n",
    "print(numero_lista)"
   ]
  },
  {
   "cell_type": "markdown",
   "metadata": {},
   "source": [
    "22. Desempaquetar solo los primeros 3 elementos de la tupla en 3 variables"
   ]
  },
  {
   "cell_type": "code",
   "execution_count": 54,
   "metadata": {},
   "outputs": [
    {
     "name": "stdout",
     "output_type": "stream",
     "text": [
      "1 2 3\n"
     ]
    }
   ],
   "source": [
    "var1 ,var2, var3 = numero_tupla[:3]\n",
    "print(var1,var2,var3)\n"
   ]
  },
  {
   "cell_type": "markdown",
   "metadata": {},
   "source": [
    "23. Crear un diccionario utilizando la lista crada en el punto 1, asignandole la clave \"ciudad\". Agregar tambien otras claves, como puede ser \"Pais\" y \"Continente\"."
   ]
  },
  {
   "cell_type": "code",
   "execution_count": 55,
   "metadata": {},
   "outputs": [
    {
     "name": "stdout",
     "output_type": "stream",
     "text": [
      "{'ciudad': ['Lima', 'Buenos Aires', 'La paz', 'Santiago', 'Quito', 'Brasilia', 'Bogotá', 'Caracas', 'Madrid', 'París'], 'pais': ['Perú', 'Brasil', 'España'], 'continente': ['America', 'Europa', 'Asia']}\n"
     ]
    }
   ],
   "source": [
    "ciudades_diccionario = {\"ciudad\":ciudades,\n",
    "                        \"pais\":[\"Perú\", \"Brasil\", \"España\"],\n",
    "                        \"continente\":[\"America\",\"Europa\",'Asia']}\n",
    "print(ciudades_diccionario)"
   ]
  },
  {
   "cell_type": "markdown",
   "metadata": {},
   "source": [
    "24. Imprimir las claves del diccionario"
   ]
  },
  {
   "cell_type": "code",
   "execution_count": 57,
   "metadata": {},
   "outputs": [
    {
     "name": "stdout",
     "output_type": "stream",
     "text": [
      "dict_keys(['ciudad', 'pais', 'continente'])\n"
     ]
    }
   ],
   "source": [
    "print(ciudades_diccionario.keys())"
   ]
  },
  {
   "cell_type": "markdown",
   "metadata": {},
   "source": [
    "25. Imprimir las ciudades a través de su clave"
   ]
  },
  {
   "cell_type": "code",
   "execution_count": 58,
   "metadata": {},
   "outputs": [
    {
     "name": "stdout",
     "output_type": "stream",
     "text": [
      "['Lima', 'Buenos Aires', 'La paz', 'Santiago', 'Quito', 'Brasilia', 'Bogotá', 'Caracas', 'Madrid', 'París']\n"
     ]
    }
   ],
   "source": [
    "print(ciudades_diccionario[\"ciudad\"])"
   ]
  },
  {
   "cell_type": "markdown",
   "metadata": {},
   "source": []
  }
 ],
 "metadata": {
  "kernelspec": {
   "display_name": "Python 3.10.7 64-bit (microsoft store)",
   "language": "python",
   "name": "python3"
  },
  "language_info": {
   "codemirror_mode": {
    "name": "ipython",
    "version": 3
   },
   "file_extension": ".py",
   "mimetype": "text/x-python",
   "name": "python",
   "nbconvert_exporter": "python",
   "pygments_lexer": "ipython3",
   "version": "3.10.7"
  },
  "orig_nbformat": 4,
  "vscode": {
   "interpreter": {
    "hash": "624741679a3ae5d99cecf49b8df5d516a7a937e6e7328e129d1fa121c8592e26"
   }
  }
 },
 "nbformat": 4,
 "nbformat_minor": 2
}
