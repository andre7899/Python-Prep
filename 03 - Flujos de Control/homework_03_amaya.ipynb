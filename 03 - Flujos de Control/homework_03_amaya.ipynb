{
 "cells": [
  {
   "cell_type": "markdown",
   "metadata": {},
   "source": [
    "1. Crear una variable que contenga un elemento del conjunto de números enteros y luego imprimir por pantalla si es mayor o menor a cero"
   ]
  },
  {
   "cell_type": "code",
   "execution_count": 1,
   "metadata": {},
   "outputs": [
    {
     "name": "stdout",
     "output_type": "stream",
     "text": [
      "Es mayor a 0\n"
     ]
    }
   ],
   "source": [
    "var = 5\n",
    "if var > 0:\n",
    "    print(\"Es mayor a 0\")\n",
    "else:\n",
    "    print(\"Es menor o igual a 0\")"
   ]
  },
  {
   "cell_type": "markdown",
   "metadata": {},
   "source": [
    "2. Crear dos variables y un condicional que informe si son del mismo tipo de dato"
   ]
  },
  {
   "cell_type": "code",
   "execution_count": 2,
   "metadata": {},
   "outputs": [
    {
     "name": "stdout",
     "output_type": "stream",
     "text": [
      "Ambas variables son diferentes tipos\n"
     ]
    }
   ],
   "source": [
    "var1=5\n",
    "var2=5.2\n",
    "if type(var1)==type(var2):\n",
    "    print(\"Ambas variables son del mismo tipo\")\n",
    "else:\n",
    "    print(\"Ambas variables son diferentes tipos\")"
   ]
  },
  {
   "cell_type": "markdown",
   "metadata": {},
   "source": [
    "3. Para los valores enteros del 1 al 20, imprimir por pantalla si es par o impar"
   ]
  },
  {
   "cell_type": "code",
   "execution_count": 3,
   "metadata": {},
   "outputs": [
    {
     "name": "stdout",
     "output_type": "stream",
     "text": [
      "El numero  1  es Impar\n",
      "El numero  2  es Par\n",
      "El numero  3  es Impar\n",
      "El numero  4  es Par\n",
      "El numero  5  es Impar\n",
      "El numero  6  es Par\n",
      "El numero  7  es Impar\n",
      "El numero  8  es Par\n",
      "El numero  9  es Impar\n",
      "El numero  10  es Par\n",
      "El numero  11  es Impar\n",
      "El numero  12  es Par\n",
      "El numero  13  es Impar\n",
      "El numero  14  es Par\n",
      "El numero  15  es Impar\n",
      "El numero  16  es Par\n",
      "El numero  17  es Impar\n",
      "El numero  18  es Par\n",
      "El numero  19  es Impar\n",
      "El numero  20  es Par\n"
     ]
    }
   ],
   "source": [
    "for i in range(1,21):\n",
    "    print(\"El numero \",i,\" es \",end='')\n",
    "    if i %2==0:\n",
    "        print(\"Par\")\n",
    "    else:\n",
    "        print(\"Impar\")"
   ]
  },
  {
   "cell_type": "markdown",
   "metadata": {},
   "source": [
    "4. En un ciclo for mostrar para los valores entre 0 y 5 el resultado de elevarlo a la potencia igual a 3"
   ]
  },
  {
   "cell_type": "code",
   "execution_count": 7,
   "metadata": {},
   "outputs": [
    {
     "name": "stdout",
     "output_type": "stream",
     "text": [
      "0 ^3 =  0\n",
      "1 ^3 =  1\n",
      "2 ^3 =  8\n",
      "3 ^3 =  27\n",
      "4 ^3 =  64\n",
      "5 ^3 =  125\n"
     ]
    }
   ],
   "source": [
    "for i in range(6):\n",
    "    print(i,\"^3 = \",i**3)"
   ]
  },
  {
   "cell_type": "markdown",
   "metadata": {},
   "source": [
    "5. Crear una variable que contenga un número entero y realizar un ciclo for la misma cantidad de ciclos"
   ]
  },
  {
   "cell_type": "code",
   "execution_count": 6,
   "metadata": {},
   "outputs": [
    {
     "name": "stdout",
     "output_type": "stream",
     "text": [
      "Ciclo for # 0\n",
      "Ciclo for # 1\n",
      "Ciclo for # 2\n"
     ]
    }
   ],
   "source": [
    "var = 3 \n",
    "for i in range(var):\n",
    "    print(\"Ciclo for #\",i)"
   ]
  },
  {
   "cell_type": "markdown",
   "metadata": {},
   "source": [
    "6. Utilizar un ciclo while para realizar el factorial de un número guardado en una variable, sólo si la variable contiene un número entero mayor a 0"
   ]
  },
  {
   "cell_type": "code",
   "execution_count": 9,
   "metadata": {},
   "outputs": [
    {
     "name": "stdout",
     "output_type": "stream",
     "text": [
      "El factorial  es 24\n"
     ]
    }
   ],
   "source": [
    "var = 4\n",
    "factorial = 1\n",
    "while(var >0):\n",
    "    factorial*=var\n",
    "    var-=1\n",
    "print(\"El factorial  es {}\".format(factorial))"
   ]
  },
  {
   "cell_type": "markdown",
   "metadata": {},
   "source": [
    "7. Crear un ciclo for dentro de un ciclo while"
   ]
  },
  {
   "cell_type": "code",
   "execution_count": 12,
   "metadata": {},
   "outputs": [],
   "source": [
    "nro = 0\n",
    "while nro<5:\n",
    "    for i in range(5):\n",
    "        if i==4:\n",
    "            break\n",
    "    nro += 1"
   ]
  },
  {
   "cell_type": "markdown",
   "metadata": {},
   "source": [
    "8. Crear un ciclo while dentro de un ciclo for\n"
   ]
  },
  {
   "cell_type": "code",
   "execution_count": 15,
   "metadata": {},
   "outputs": [
    {
     "name": "stdout",
     "output_type": "stream",
     "text": [
      "for 1, while 0\n",
      "for 1, while 1\n",
      "for 1, while 2\n",
      "for 1, while 3\n",
      "for 1, while 4\n"
     ]
    }
   ],
   "source": [
    "nro=0\n",
    "for i in range(5):\n",
    "    while nro<5:\n",
    "        print(\"for {}, while {}\".format(i+1,nro))\n",
    "        nro+=1"
   ]
  },
  {
   "cell_type": "markdown",
   "metadata": {},
   "source": [
    "9. Imprimir los números primos existentes entre 0 y 30"
   ]
  },
  {
   "cell_type": "code",
   "execution_count": 33,
   "metadata": {},
   "outputs": [
    {
     "name": "stdout",
     "output_type": "stream",
     "text": [
      "Primo:  1\n",
      "Primo:  2\n",
      "Primo:  3\n",
      "Primo:  5\n",
      "Primo:  7\n",
      "Primo:  11\n",
      "Primo:  13\n",
      "Primo:  17\n",
      "Primo:  19\n",
      "Primo:  23\n",
      "Primo:  29\n",
      "76\n"
     ]
    }
   ],
   "source": [
    "es_primo=True\n",
    "ciclos = 0\n",
    "for i in range(1,31):\n",
    "    for j in range(2,i//2+1):\n",
    "        ciclos+=1   \n",
    "        if i%j==0:\n",
    "            es_primo=False\n",
    "            break\n",
    "    if es_primo:\n",
    "        print(\"Primo: \",i)\n",
    "    es_primo=True\n",
    "        \n",
    "print(ciclos)   "
   ]
  },
  {
   "cell_type": "markdown",
   "metadata": {},
   "source": [
    "10. ¿Se puede mejorar el proceso del punto 9? Utilizar las sentencias break y/ó continue para tal fin"
   ]
  },
  {
   "cell_type": "code",
   "execution_count": null,
   "metadata": {},
   "outputs": [],
   "source": [
    "pass"
   ]
  },
  {
   "cell_type": "markdown",
   "metadata": {},
   "source": [
    "11. En los puntos 9 y 10, se diseño un código que encuentra números primos y además se lo optimizó. ¿Es posible saber en qué medida se optimizó?"
   ]
  },
  {
   "cell_type": "code",
   "execution_count": null,
   "metadata": {},
   "outputs": [],
   "source": [
    "pass"
   ]
  },
  {
   "cell_type": "markdown",
   "metadata": {},
   "source": [
    "12. Si la cantidad de números que se evalúa es mayor a treinta, esa optimización crece?"
   ]
  },
  {
   "cell_type": "code",
   "execution_count": 34,
   "metadata": {},
   "outputs": [
    {
     "name": "stdout",
     "output_type": "stream",
     "text": [
      "Primo:  1\n",
      "Primo:  2\n",
      "Primo:  3\n",
      "Primo:  5\n",
      "Primo:  7\n",
      "Primo:  11\n",
      "Primo:  13\n",
      "Primo:  17\n",
      "Primo:  19\n",
      "Primo:  23\n",
      "Primo:  29\n",
      "Primo:  31\n",
      "Primo:  37\n",
      "Primo:  41\n",
      "Primo:  43\n",
      "Primo:  47\n",
      "Primo:  53\n",
      "Primo:  59\n",
      "Primo:  61\n",
      "Primo:  67\n",
      "Primo:  71\n",
      "Primo:  73\n",
      "Primo:  79\n",
      "Primo:  83\n",
      "Primo:  89\n",
      "Primo:  97\n",
      "615\n"
     ]
    }
   ],
   "source": [
    "es_primo=True\n",
    "ciclos = 0\n",
    "for i in range(1,100):\n",
    "    for j in range(2,i//2+1):\n",
    "        ciclos+=1   \n",
    "        if i%j==0:\n",
    "            es_primo=False\n",
    "            break\n",
    "    if es_primo:\n",
    "        print(\"Primo: \",i)\n",
    "    es_primo=True\n",
    "        \n",
    "print(ciclos)   "
   ]
  },
  {
   "cell_type": "markdown",
   "metadata": {},
   "source": [
    "13. Aplicando continue, armar un ciclo while que solo imprima los valores divisibles por 12, dentro del rango de números de 100 a 300"
   ]
  },
  {
   "cell_type": "code",
   "execution_count": 39,
   "metadata": {},
   "outputs": [
    {
     "name": "stdout",
     "output_type": "stream",
     "text": [
      "108\n",
      "120\n",
      "132\n",
      "144\n",
      "156\n",
      "168\n",
      "180\n",
      "192\n",
      "204\n",
      "216\n",
      "228\n",
      "240\n",
      "252\n",
      "264\n",
      "276\n",
      "288\n",
      "300\n"
     ]
    }
   ],
   "source": [
    "n=100\n",
    "while(n<300):\n",
    "    n+=1\n",
    "    if n%12!=0:\n",
    "        continue\n",
    "    print(n)\n",
    "    \n",
    "    "
   ]
  },
  {
   "cell_type": "markdown",
   "metadata": {},
   "source": [
    "14. Utilizar la función input() que permite hacer ingresos por teclado, para encontrar números primos y dar la opción al usario de buscar el siguiente"
   ]
  },
  {
   "cell_type": "code",
   "execution_count": 6,
   "metadata": {},
   "outputs": [
    {
     "name": "stdout",
     "output_type": "stream",
     "text": [
      "Primo:  23\n",
      "No es primo\n"
     ]
    }
   ],
   "source": [
    "opcion=1\n",
    "while(opcion==1):\n",
    "    nro = int(input(\"Ingrese el nro para saber si es primo: \"))\n",
    "    es_primo=True\n",
    "    ciclos = 0\n",
    "    #for i in range(1,nro):\n",
    "\n",
    "    for j in range(2,nro//2+1):\n",
    "        ciclos+=1   \n",
    "        if nro%j==0:\n",
    "            es_primo=False\n",
    "            break\n",
    "    if es_primo:\n",
    "        print(\"Primo: \",nro)\n",
    "    else:\n",
    "        print(\"No es primo\")\n",
    "    es_primo=True\n",
    "    opcion=int(input(\"Desea ingresar otra numero? Si(1), No(otro): \"))"
   ]
  },
  {
   "cell_type": "markdown",
   "metadata": {},
   "source": [
    "15. Crear un ciclo while que encuentre dentro del rango de 100 a 300 el primer número divisible por 3 y además múltiplo de 6"
   ]
  },
  {
   "cell_type": "code",
   "execution_count": 8,
   "metadata": {},
   "outputs": [
    {
     "name": "stdout",
     "output_type": "stream",
     "text": [
      "102\n"
     ]
    }
   ],
   "source": [
    "x=99\n",
    "while(x<=300):\n",
    "    x+=1\n",
    "    if x % 6==0:\n",
    "        print(x)\n",
    "        break"
   ]
  },
  {
   "cell_type": "markdown",
   "metadata": {},
   "source": []
  }
 ],
 "metadata": {
  "kernelspec": {
   "display_name": "Python 3.10.7 64-bit (microsoft store)",
   "language": "python",
   "name": "python3"
  },
  "language_info": {
   "codemirror_mode": {
    "name": "ipython",
    "version": 3
   },
   "file_extension": ".py",
   "mimetype": "text/x-python",
   "name": "python",
   "nbconvert_exporter": "python",
   "pygments_lexer": "ipython3",
   "version": "3.10.7"
  },
  "orig_nbformat": 4,
  "vscode": {
   "interpreter": {
    "hash": "624741679a3ae5d99cecf49b8df5d516a7a937e6e7328e129d1fa121c8592e26"
   }
  }
 },
 "nbformat": 4,
 "nbformat_minor": 2
}
